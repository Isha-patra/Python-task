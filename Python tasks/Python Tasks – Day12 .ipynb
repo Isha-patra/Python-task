{
 "cells": [
  {
   "cell_type": "code",
   "execution_count": 3,
   "id": "0238ee03",
   "metadata": {},
   "outputs": [
    {
     "name": "stdout",
     "output_type": "stream",
     "text": [
      "Welcome to the Guess Game!\n",
      "Guess a number between 1 and 50.\n",
      "Enter your guess: 20\n",
      "Hint: Think of a bigger number!\n",
      "Enter your guess: 30\n",
      "Hint: Think of a bigger number!\n",
      "Enter your guess: 40\n",
      "Hint: Think of a bigger number!\n",
      "Enter your guess: 45\n",
      "Hint: Think of a smaller number!\n",
      "Enter your guess: 42\n",
      "Congratulations! You guessed the correct number!\n"
     ]
    }
   ],
   "source": [
    "#1Write a code to implement Guess Game Guess Game \n",
    "import random\n",
    "def guess_game():\n",
    "    actual_number = random.randint(1, 50)\n",
    "    chances = 5\n",
    "    print(\"Welcome to the Guess Game!\")\n",
    "    print(\"Guess a number between 1 and 50.\")\n",
    "    while chances > 0:\n",
    "        try:\n",
    "            guess = int(input(\"Enter your guess: \"))\n",
    "        except ValueError:\n",
    "            print(\"Invalid input! Please enter a valid number.\")\n",
    "            continue\n",
    "        if guess < 1 or guess > 50:\n",
    "            print(\"Think within the limits 1-50 only!\")\n",
    "            continue\n",
    "        if guess == actual_number:\n",
    "            print(\"Congratulations! You guessed the correct number!\")\n",
    "            return\n",
    "        if guess < actual_number:\n",
    "            print(\"Hint: Think of a bigger number!\")\n",
    "        else:\n",
    "            print(\"Hint: Think of a smaller number!\")\n",
    "        chances -= 1\n",
    "    print(\"Game over! You ran out of chances. The actual number was\", actual_number)\n",
    "guess_game()"
   ]
  },
  {
   "cell_type": "code",
   "execution_count": 5,
   "id": "6afa4648",
   "metadata": {},
   "outputs": [
    {
     "name": "stdout",
     "output_type": "stream",
     "text": [
      "1\n",
      "1\n",
      "1\n",
      "2\n",
      "[[0, 0, 0], [0, 0, 1], [0, 1, 0], [1, 0, 0], [1, 1, 1]]\n"
     ]
    }
   ],
   "source": [
    "#2\n",
    "if __name__ == '__main__':\n",
    "    x = int(input())\n",
    "    y = int(input())\n",
    "    z = int(input())\n",
    "    n = int(input())\n",
    "    out=[]\n",
    "    for i in range(x + 1): \n",
    "        for j in range(y + 1): \n",
    "            for m in range(z + 1): \n",
    "                if ((i + j + m) != n):\n",
    "                    out.append([i,j,m])\n",
    "                    \n",
    "    print(out)"
   ]
  },
  {
   "cell_type": "code",
   "execution_count": null,
   "id": "bb72b6f3",
   "metadata": {},
   "outputs": [],
   "source": [
    "#4\n",
    "if __name__ == '__main__':\n",
    "    n = int(input())\n",
    "    student_marks = {}\n",
    "    for _ in range(n):\n",
    "        name, *line = input().split()\n",
    "        scores = list(map(float, line))\n",
    "        student_marks[name] = scores\n",
    "    query_name = input()\n",
    "    length_of_array = len(student_marks[query_name])\n",
    "    sum = sum(student_marks[query_name])\n",
    "    average = sum / length_of_array\n",
    "    print(f\"{average:.2f}\")"
   ]
  },
  {
   "cell_type": "code",
   "execution_count": 2,
   "id": "cb220d9a",
   "metadata": {},
   "outputs": [
    {
     "name": "stdout",
     "output_type": "stream",
     "text": [
      "Array before sorting:  [8, 6, 5, 7]\n",
      "Array after sorting:  [5, 6, 7, 8]\n"
     ]
    }
   ],
   "source": [
    "#5 selection sort\n",
    "arr=[8,6,5,7]\n",
    "print('Array before sorting: ',arr)\n",
    "for i in range(0,len(arr)-1):\n",
    "    for j in range(i+1,len(arr)):\n",
    "        if arr[i]>arr[j]:\n",
    "            temp=arr[i]\n",
    "            arr[i]=arr[j]\n",
    "            arr[j]=temp\n",
    "print('Array after sorting: ',arr)"
   ]
  },
  {
   "cell_type": "code",
   "execution_count": 3,
   "id": "e137150d",
   "metadata": {},
   "outputs": [
    {
     "name": "stdout",
     "output_type": "stream",
     "text": [
      "Array before sorting:  [8, 6, 5, 7]\n",
      "Array after sorting:  [5, 6, 7, 8]\n"
     ]
    }
   ],
   "source": [
    "#bubble sort\n",
    "arr=[8,6,5,7]\n",
    "print('Array before sorting: ',arr)\n",
    "for i in range(0,len(arr)):\n",
    "    for j in range(0,len(arr)-1-i):\n",
    "        if arr[j]>arr[j+1]:\n",
    "            temp=arr[j]\n",
    "            arr[j]=arr[j+1]\n",
    "            arr[j+1]=temp\n",
    "print('Array after sorting: ',arr)"
   ]
  },
  {
   "cell_type": "code",
   "execution_count": 4,
   "id": "684260ad",
   "metadata": {},
   "outputs": [
    {
     "name": "stdout",
     "output_type": "stream",
     "text": [
      "Array before sorting:  [8, 6, 5, 7]\n",
      "Array after sorting:  [5, 6, 7, 8]\n"
     ]
    }
   ],
   "source": [
    "#insertion sort\n",
    "arr=[8,6,5,7]\n",
    "print('Array before sorting: ',arr)\n",
    "for i in range(1,len(arr)):\n",
    "    k=arr[i]\n",
    "    j=i-1\n",
    "    while j>=0 and k<arr[j]:\n",
    "        arr[j+1]=arr[j]\n",
    "        j-=1\n",
    "    arr[j+1]=k\n",
    "print('Array after sorting: ',arr)"
   ]
  },
  {
   "cell_type": "code",
   "execution_count": null,
   "id": "4bf24583",
   "metadata": {},
   "outputs": [],
   "source": []
  }
 ],
 "metadata": {
  "kernelspec": {
   "display_name": "Python 3 (ipykernel)",
   "language": "python",
   "name": "python3"
  },
  "language_info": {
   "codemirror_mode": {
    "name": "ipython",
    "version": 3
   },
   "file_extension": ".py",
   "mimetype": "text/x-python",
   "name": "python",
   "nbconvert_exporter": "python",
   "pygments_lexer": "ipython3",
   "version": "3.9.13"
  }
 },
 "nbformat": 4,
 "nbformat_minor": 5
}

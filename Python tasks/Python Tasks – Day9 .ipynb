{
 "cells": [
  {
   "cell_type": "code",
   "execution_count": 1,
   "id": "ca1cda24",
   "metadata": {},
   "outputs": [
    {
     "name": "stdout",
     "output_type": "stream",
     "text": [
      "Enter a number: 5\n",
      "+ve number\n"
     ]
    }
   ],
   "source": [
    "#1.Write a Python program to check whether a number is negative, positive or zero. \n",
    "n=int(input(\"Enter a number: \"))\n",
    "if n>0:\n",
    "    print(\"+ve number\")\n",
    "elif n<0:\n",
    "    print(\"-ve number\")\n",
    "else:\n",
    "    print(\"The number is 0\")"
   ]
  },
  {
   "cell_type": "code",
   "execution_count": 4,
   "id": "30003090",
   "metadata": {},
   "outputs": [
    {
     "name": "stdout",
     "output_type": "stream",
     "text": [
      "Enter a number: 55\n",
      "no is divisible by 5 and 11\n"
     ]
    }
   ],
   "source": [
    "#2.Write a Python program to check whether a number is divisible by 5 and 11 or not.\n",
    "n=int(input(\"Enter a number: \"))\n",
    "if n % 5 == 0 and n % 11 == 0:\n",
    "    print(\"no is divisible by 5 and 11\")\n",
    "else:\n",
    "    print(\"no is not divisible by 5 and 11\")"
   ]
  },
  {
   "cell_type": "code",
   "execution_count": 5,
   "id": "2ca04661",
   "metadata": {},
   "outputs": [
    {
     "name": "stdout",
     "output_type": "stream",
     "text": [
      "Enter a year: 2006\n",
      "It is not a leap year\n"
     ]
    }
   ],
   "source": [
    "#3.Write a Python program to check whether a year is leap year or not. \n",
    "n=int(input(\"Enter a year: \"))\n",
    "if n%100==0:\n",
    "    if n%4==0:\n",
    "        print('It is a leap year')\n",
    "    else:\n",
    "        print('It is not a leap year')\n",
    "elif n%4==0:\n",
    "    print('It is a leap year')\n",
    "else:\n",
    "    print(\"It is not a leap year\")"
   ]
  },
  {
   "cell_type": "code",
   "execution_count": 6,
   "id": "40331b16",
   "metadata": {},
   "outputs": [
    {
     "name": "stdout",
     "output_type": "stream",
     "text": [
      "Enter a character: i\n",
      "i is an alphabet.\n"
     ]
    }
   ],
   "source": [
    "#4.Write a Python program to check whether a character is alphabet or not.\n",
    "char = input(\"Enter a character: \")\n",
    "if char.isalpha():\n",
    "    print(f\"{char} is an alphabet.\")\n",
    "else:\n",
    "    print(f\"{char} is not an alphabet.\")"
   ]
  },
  {
   "cell_type": "code",
   "execution_count": 7,
   "id": "a07c9edb",
   "metadata": {},
   "outputs": [
    {
     "name": "stdout",
     "output_type": "stream",
     "text": [
      "Enter an alphabet: s\n",
      "s is a consonant.\n"
     ]
    }
   ],
   "source": [
    "#5.Write a Python program to input any alphabet and check whether it is vowel or consonant. \n",
    "char = input(\"Enter an alphabet: \")\n",
    "if char.lower() in \"aeiou\":\n",
    "    print(f\"{char} is a vowel.\")\n",
    "else:\n",
    "    print(f\"{char} is a consonant.\")"
   ]
  },
  {
   "cell_type": "code",
   "execution_count": 8,
   "id": "346689c2",
   "metadata": {},
   "outputs": [
    {
     "name": "stdout",
     "output_type": "stream",
     "text": [
      "Enter a character: 7\n",
      "7 is a digit.\n"
     ]
    }
   ],
   "source": [
    "#6.Write a Python program to input any character and check whether it is alphabet, digit or special character.\n",
    "char = input(\"Enter a character: \")\n",
    "if char.isalpha():\n",
    "    print(f\"{char} is an alphabet.\")\n",
    "elif char.isdigit():\n",
    "    print(f\"{char} is a digit.\")\n",
    "else:\n",
    "    print(f\"{char} is a special character.\")"
   ]
  },
  {
   "cell_type": "code",
   "execution_count": 10,
   "id": "143aa8bd",
   "metadata": {},
   "outputs": [
    {
     "name": "stdout",
     "output_type": "stream",
     "text": [
      "Enter a alphabet: H\n",
      "H is an uppercase alphabet.\n"
     ]
    }
   ],
   "source": [
    "#7.Write a Python program to check whether a character is uppercase or lowercase alphabet.\n",
    "char = input(\"Enter a alphabet: \")\n",
    "\n",
    "if char.islower():\n",
    "    print(f\"{char} is a lowercase alphabet.\")\n",
    "elif char.isupper():\n",
    "    print(f\"{char} is an uppercase alphabet.\")"
   ]
  },
  {
   "cell_type": "code",
   "execution_count": 12,
   "id": "9749e59f",
   "metadata": {},
   "outputs": [
    {
     "name": "stdout",
     "output_type": "stream",
     "text": [
      "Enter weekno: 3\n",
      "tuesday\n"
     ]
    }
   ],
   "source": [
    "#8.Write a Python program to input week number and print weekday. \n",
    "n= int(input(\"Enter weekno: \"))\n",
    "week=['sunday', 'monday', 'tuesday', 'wednesday', 'thrusday', 'friday', 'saturday']\n",
    "print(week[n-1])"
   ]
  },
  {
   "cell_type": "code",
   "execution_count": 13,
   "id": "a0a2f3b8",
   "metadata": {},
   "outputs": [
    {
     "name": "stdout",
     "output_type": "stream",
     "text": [
      "Enter the 1st angle: 30\n",
      "Enter the 2nd angle: 60\n",
      "Enter the 3rd angle: 90\n",
      "Triangle is Valid.\n"
     ]
    }
   ],
   "source": [
    "#9.Write a Python program to input angles of a triangle and check whether triangle is valid or not. \n",
    "x = float(input(\"Enter the 1st angle: \"))\n",
    "y = float(input(\"Enter the 2nd angle: \"))\n",
    "z = float(input(\"Enter the 3rd angle: \"))\n",
    "\n",
    "if x + y + z == 180:\n",
    "    print(\"Triangle is Valid.\")\n",
    "else:\n",
    "    print(\"Triangle is Invalid.\")"
   ]
  },
  {
   "cell_type": "code",
   "execution_count": 14,
   "id": "3647b188",
   "metadata": {},
   "outputs": [
    {
     "name": "stdout",
     "output_type": "stream",
     "text": [
      "Enter the length of x: 3\n",
      "Enter the length of y: 4\n",
      "Enter the length of z: 5\n",
      "Triangle is valid.\n"
     ]
    }
   ],
   "source": [
    "#10.Write a Python program to input all sides of a triangle and check whether triangle is valid or not. \n",
    "x = float(input(\"Enter the length of x: \"))\n",
    "y = float(input(\"Enter the length of y: \"))\n",
    "z = float(input(\"Enter the length of z: \"))\n",
    "\n",
    "if x + y > z and x + z > y and y + z > x:\n",
    "    print(\"Triangle is valid.\")\n",
    "else:\n",
    "    print(\"Triangle is Invalid.\")"
   ]
  },
  {
   "cell_type": "code",
   "execution_count": 1,
   "id": "788390a6",
   "metadata": {},
   "outputs": [
    {
     "name": "stdout",
     "output_type": "stream",
     "text": [
      "Enter the length of x: 7\n",
      "Enter the length of y: 7\n",
      "Enter the length of z: 7\n",
      "Triangle is equilateral.\n"
     ]
    }
   ],
   "source": [
    "#11.Write a Python program to check whether the triangle is equilateral, isosceles or scalene triangle. \n",
    "x = float(input(\"Enter the length of x: \"))\n",
    "y = float(input(\"Enter the length of y: \"))\n",
    "z = float(input(\"Enter the length of z: \"))\n",
    "\n",
    "if x == y == z:\n",
    "    print(\"Triangle is equilateral.\")\n",
    "elif x == y or x == y or y == z:\n",
    "    print(\"Triangle is isosceles.\")\n",
    "else:\n",
    "    print(\"Triangle is scalene.\")"
   ]
  },
  {
   "cell_type": "code",
   "execution_count": 2,
   "id": "23662e58",
   "metadata": {},
   "outputs": [
    {
     "name": "stdout",
     "output_type": "stream",
     "text": [
      "Enter marks in 5 subjects: \n",
      "165\n",
      "276\n",
      "387\n",
      "498\n",
      "590\n",
      "Grade B\n"
     ]
    }
   ],
   "source": [
    "#12.Write a Python program to input marks of five subjects Physics, Chemistry, Biology, Mathematics and Computer. Calculate percentage and grade according to following:  \n",
    "#Percentage >= 90% : Grade A \n",
    "# Percentage >= 80% : Grade B  \n",
    "#Percentage >= 70% : Grade C  \n",
    "# Percentage >= 60% : Grade D  \n",
    "# Percentage >= 40% : Grade E  \n",
    "#Percentage < 40% : Grade F \n",
    "print('Enter marks in 5 subjects: ')\n",
    "l=[]\n",
    "for i in range(1,6):\n",
    "    l.append(int(input(i)))\n",
    "    avg=sum(l)/5\n",
    "if avg>=90:\n",
    "    print(\"Grade A\")\n",
    "elif avg>=80:\n",
    "    print(\"Grade B\")\n",
    "elif avg>=70:\n",
    "    print(\"Grade C\")\n",
    "elif avg>=60:\n",
    "    print(\"Grade D\")\n",
    "elif avg>=40:\n",
    "    print(\"Grade E\")\n",
    "else:\n",
    "    print(\"Grade F\")"
   ]
  },
  {
   "cell_type": "code",
   "execution_count": 3,
   "id": "69a99d3b",
   "metadata": {},
   "outputs": [
    {
     "name": "stdout",
     "output_type": "stream",
     "text": [
      "Enter the basic salary: 25000\n",
      "Gross Salary: 56250.0\n"
     ]
    }
   ],
   "source": [
    "#13.Write a Python program to input basic salary of an employee and calculate its Gross salary according to following:  \n",
    "#Basic Salary <= 10000 : HRA = 20%, DA = 80%  \n",
    "#Basic Salary <= 20000 : HRA = 25%, DA = 90%  \n",
    "#Basic Salary > 20000 : HRA = 30%, DA = 95%  #basic salary is bs     #gross salary is gs\n",
    "bs= float(input(\"Enter the basic salary: \"))\n",
    "if bs <= 10000:\n",
    "    hra = 0.2 * bs\n",
    "    da = 0.8 * bs\n",
    "elif bs <= 20000:\n",
    "    hra = 0.25 * bs\n",
    "    da = 0.9 * bs\n",
    "else:\n",
    "    hra = 0.3 * bs\n",
    "    da = 0.95 * bs\n",
    "gs = bs + hra + da\n",
    "print(f\"Gross Salary: {gs}\")"
   ]
  },
  {
   "cell_type": "code",
   "execution_count": 4,
   "id": "4404b606",
   "metadata": {},
   "outputs": [
    {
     "name": "stdout",
     "output_type": "stream",
     "text": [
      "Enter unit charges: 50\n",
      "Bill:  30.0\n"
     ]
    }
   ],
   "source": [
    "#14.Write a Python Program to input electricity unit charges and calculate total electricity bill according to \n",
    "#   the given condition:  \n",
    "#For first 50 units Rs. 0.50/unit \n",
    "#For next 100 units Rs. 0.75/unit \n",
    "#For next 100 units Rs. 1.20/unit \n",
    "#For unit above 250 Rs. 1.50/unit \n",
    "#An additional surcharge of 20% is added to the bill \n",
    "unit=int(input('Enter unit charges: '))\n",
    "if unit<=50:\n",
    "    bill=unit*0.5\n",
    "elif unit<=150:\n",
    "    bill=50*0.5+(unit-50)*0.75\n",
    "elif unit<=250:\n",
    "    bill=50*0.5+100*0.75+(unit-150)*1.20\n",
    "else:\n",
    "    bill=50*0.5+100*0.75+100*1.20+(unit-250)*1.50\n",
    "print(\"Bill: \",bill*1.20)"
   ]
  },
  {
   "cell_type": "code",
   "execution_count": null,
   "id": "dfe5ff59",
   "metadata": {},
   "outputs": [],
   "source": []
  },
  {
   "cell_type": "code",
   "execution_count": null,
   "id": "09d098d0",
   "metadata": {},
   "outputs": [],
   "source": []
  }
 ],
 "metadata": {
  "kernelspec": {
   "display_name": "Python 3 (ipykernel)",
   "language": "python",
   "name": "python3"
  },
  "language_info": {
   "codemirror_mode": {
    "name": "ipython",
    "version": 3
   },
   "file_extension": ".py",
   "mimetype": "text/x-python",
   "name": "python",
   "nbconvert_exporter": "python",
   "pygments_lexer": "ipython3",
   "version": "3.9.13"
  }
 },
 "nbformat": 4,
 "nbformat_minor": 5
}

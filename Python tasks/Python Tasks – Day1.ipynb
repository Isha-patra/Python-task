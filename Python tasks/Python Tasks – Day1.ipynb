{
 "cells": [
  {
   "cell_type": "code",
   "execution_count": 5,
   "id": "79e8e6ea",
   "metadata": {},
   "outputs": [
    {
     "name": "stdout",
     "output_type": "stream",
     "text": [
      "Hello world\n"
     ]
    }
   ],
   "source": [
    "print(\"Hello world\")"
   ]
  },
  {
   "cell_type": "code",
   "execution_count": 7,
   "id": "abbb8b8a",
   "metadata": {},
   "outputs": [
    {
     "name": "stdout",
     "output_type": "stream",
     "text": [
      "Sum is : 50\n"
     ]
    }
   ],
   "source": [
    "a = 45 \n",
    "b = 5 \n",
    "c = a+b \n",
    "print(\"Sum is :\", c)"
   ]
  },
  {
   "cell_type": "markdown",
   "id": "d69d0731",
   "metadata": {},
   "source": [
    "3.List Python Libraries Used in Different IT Domains\n",
    "\n",
    "Pandas, numpy, matplotlib, tkinter, sklearn, tensorflow "
   ]
  },
  {
   "cell_type": "markdown",
   "id": "2556c072",
   "metadata": {},
   "source": [
    "2.List Some Mega Projects hosted in Python \n",
    "\n",
    "Database Projects: Management Systems (Library, Hotel, Hospital, School) \n",
    "\n",
    "ML Projects: Classification \n",
    "\n",
    "AI Projects: Chatbots, face detection and recognition, speech recognition, Security \n",
    "\n",
    "Data Science Projects: Global Terrorism Analysis, Call Data Record Analysis "
   ]
  },
  {
   "cell_type": "code",
   "execution_count": null,
   "id": "fa9f4117",
   "metadata": {},
   "outputs": [],
   "source": []
  }
 ],
 "metadata": {
  "kernelspec": {
   "display_name": "Python 3 (ipykernel)",
   "language": "python",
   "name": "python3"
  },
  "language_info": {
   "codemirror_mode": {
    "name": "ipython",
    "version": 3
   },
   "file_extension": ".py",
   "mimetype": "text/x-python",
   "name": "python",
   "nbconvert_exporter": "python",
   "pygments_lexer": "ipython3",
   "version": "3.9.13"
  }
 },
 "nbformat": 4,
 "nbformat_minor": 5
}

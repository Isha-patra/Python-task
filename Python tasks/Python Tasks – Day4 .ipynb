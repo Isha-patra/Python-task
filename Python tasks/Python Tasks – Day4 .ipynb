{
 "cells": [
  {
   "cell_type": "code",
   "execution_count": 2,
   "id": "93bd7002",
   "metadata": {},
   "outputs": [
    {
     "name": "stdout",
     "output_type": "stream",
     "text": [
      "['Hello,', 'how', 'are', 'you?', \"What's\", 'your', 'name?']\n"
     ]
    }
   ],
   "source": [
    "#Explore split, strip, replace, center, title methods of string data type in python\n",
    "#split\n",
    "sentence = \"Hello, how are you? What's your name?\"\n",
    "words = sentence.split()\n",
    "print(words)"
   ]
  },
  {
   "cell_type": "code",
   "execution_count": 4,
   "id": "f3df1412",
   "metadata": {},
   "outputs": [
    {
     "name": "stdout",
     "output_type": "stream",
     "text": [
      "Hello\n"
     ]
    }
   ],
   "source": [
    "#strip\n",
    "text = \"   Hello   \"\n",
    "stripped_text = text.strip()\n",
    "print(stripped_text)"
   ]
  },
  {
   "cell_type": "code",
   "execution_count": 5,
   "id": "59771319",
   "metadata": {},
   "outputs": [
    {
     "name": "stdout",
     "output_type": "stream",
     "text": [
      "My name is Mrs. Patra\n"
     ]
    }
   ],
   "source": [
    "#replace\n",
    "message = \"My name is Mr. Patra\"\n",
    "new_message = message.replace(\"Mr.\", \"Mrs.\")\n",
    "print(new_message)"
   ]
  },
  {
   "cell_type": "code",
   "execution_count": 6,
   "id": "d3595cba",
   "metadata": {},
   "outputs": [
    {
     "name": "stdout",
     "output_type": "stream",
     "text": [
      "**Hello***\n"
     ]
    }
   ],
   "source": [
    "#center\n",
    "word = \"Hello\"\n",
    "centered_word = word.center(10, \"*\")\n",
    "print(centered_word)"
   ]
  },
  {
   "cell_type": "code",
   "execution_count": 7,
   "id": "966d8f73",
   "metadata": {},
   "outputs": [
    {
     "name": "stdout",
     "output_type": "stream",
     "text": [
      "I Don'T Like To Read Book\n"
     ]
    }
   ],
   "source": [
    "#title\n",
    "sentence = \"i don't like to read book\"\n",
    "title_sentence = sentence.title()\n",
    "print(title_sentence)"
   ]
  },
  {
   "cell_type": "code",
   "execution_count": 9,
   "id": "de29fb84",
   "metadata": {},
   "outputs": [
    {
     "name": "stdout",
     "output_type": "stream",
     "text": [
      "[1, 17, 3, 7]\n"
     ]
    }
   ],
   "source": [
    "#Explore append, pop, remove, sort methods of list data type \n",
    "#append\n",
    "numbers = [1, 17, 3]\n",
    "numbers.append(7)\n",
    "print(numbers)"
   ]
  },
  {
   "cell_type": "code",
   "execution_count": 10,
   "id": "f490086f",
   "metadata": {},
   "outputs": [
    {
     "name": "stdout",
     "output_type": "stream",
     "text": [
      "cherry\n"
     ]
    }
   ],
   "source": [
    "#pop\n",
    "fruits = ['apple', 'banana', 'cherry']\n",
    "popped_fruit = fruits.pop()\n",
    "print(popped_fruit)"
   ]
  },
  {
   "cell_type": "code",
   "execution_count": 11,
   "id": "d4cd5aa2",
   "metadata": {},
   "outputs": [
    {
     "name": "stdout",
     "output_type": "stream",
     "text": [
      "['apple', 'banana']\n"
     ]
    }
   ],
   "source": [
    "print(fruits)"
   ]
  },
  {
   "cell_type": "code",
   "execution_count": 12,
   "id": "c19b1613",
   "metadata": {},
   "outputs": [
    {
     "name": "stdout",
     "output_type": "stream",
     "text": [
      "['red', 'pink', 'green']\n"
     ]
    }
   ],
   "source": [
    "#remove\n",
    "colors = ['red', 'pink', 'green', 'blue']\n",
    "colors.remove('blue')\n",
    "print(colors)"
   ]
  },
  {
   "cell_type": "code",
   "execution_count": 13,
   "id": "fbb607c1",
   "metadata": {},
   "outputs": [
    {
     "name": "stdout",
     "output_type": "stream",
     "text": [
      "[23, 17, 5, 4, 1]\n"
     ]
    }
   ],
   "source": [
    "#sort\n",
    "numbers = [4, 17, 1, 23, 5]\n",
    "numbers.sort(reverse=True)\n",
    "print(numbers)"
   ]
  },
  {
   "cell_type": "code",
   "execution_count": 14,
   "id": "48306008",
   "metadata": {},
   "outputs": [],
   "source": [
    "#Create 5 real time lists to store some useful information in python eg. Language = [ ‘java’, ‘c’, ‘c++’, ‘ruby’ ] \n",
    "\n",
    "fruits = ['Apple', 'Banana', 'Orange', 'Mango']"
   ]
  },
  {
   "cell_type": "code",
   "execution_count": 15,
   "id": "6d97f87a",
   "metadata": {},
   "outputs": [],
   "source": [
    "colors = ['Red', 'Blue', 'Green', 'Yellow']"
   ]
  },
  {
   "cell_type": "code",
   "execution_count": 16,
   "id": "238d670e",
   "metadata": {},
   "outputs": [],
   "source": [
    "cities = ['New York', 'London', 'Paris', 'Tokyo']"
   ]
  },
  {
   "cell_type": "code",
   "execution_count": 17,
   "id": "2786f27c",
   "metadata": {},
   "outputs": [],
   "source": [
    "books = ['Book1', 'book2', 'book3', 'book4']"
   ]
  },
  {
   "cell_type": "code",
   "execution_count": 18,
   "id": "4d70c814",
   "metadata": {},
   "outputs": [],
   "source": [
    "language = ['Java', 'C', 'C++', 'Ruby']"
   ]
  },
  {
   "cell_type": "markdown",
   "id": "360a5cb2",
   "metadata": {},
   "source": [
    "4.What is difference between mutable and immutable data types in python \n",
    "\n",
    "Mutable Data Types-Mutable objects can be modified or changed after they are created.\n",
    "When its modified, its memory location remains the same.\n",
    "Ex include lists, dictionaries, and sets.\n",
    "It can be altered by adding, removing, or replacing elements within them.\n",
    "\n",
    "Immutable Data Types- It cannot be modified after they are created.\n",
    "When its modified, a new object is created in memory with the updated value.\n",
    "Ex include strings, numbers (integers, floats), and tuples.\n",
    "It does not support in-place modifications."
   ]
  },
  {
   "cell_type": "markdown",
   "id": "940b25f3",
   "metadata": {},
   "source": [
    "5.What are identifiers, list rules of identifiers in python\n",
    "\n",
    "Identifier is a name used to identify a variable, function, class, module, or other objects.\n",
    "Rules-\n",
    "     An identifier can consist of both lowercase and uppercase letters (a-z, A-Z).\n",
    "    It can include digits (0-9) except as the first character\n",
    "    It should be descriptive and meaningful helping to convey the purpose or content of the object.\n",
    "    Module names should be in lowercase\n",
    "     avoid using names that already represent functions, classes, or modules in Python."
   ]
  },
  {
   "cell_type": "code",
   "execution_count": null,
   "id": "281f8018",
   "metadata": {},
   "outputs": [],
   "source": []
  }
 ],
 "metadata": {
  "kernelspec": {
   "display_name": "Python 3 (ipykernel)",
   "language": "python",
   "name": "python3"
  },
  "language_info": {
   "codemirror_mode": {
    "name": "ipython",
    "version": 3
   },
   "file_extension": ".py",
   "mimetype": "text/x-python",
   "name": "python",
   "nbconvert_exporter": "python",
   "pygments_lexer": "ipython3",
   "version": "3.9.13"
  }
 },
 "nbformat": 4,
 "nbformat_minor": 5
}

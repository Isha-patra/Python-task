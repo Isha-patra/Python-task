{
 "cells": [
  {
   "cell_type": "code",
   "execution_count": 1,
   "id": "f4f7258d",
   "metadata": {},
   "outputs": [
    {
     "name": "stdout",
     "output_type": "stream",
     "text": [
      "Enter a number: 1331\n",
      "The number is a palindrome.\n"
     ]
    }
   ],
   "source": [
    "#1.Python Program to Check Palindrome Number \n",
    "def pal(number):\n",
    "    return str(number) == str(number)[::-1]\n",
    "\n",
    "number = int(input(\"Enter a number: \"))\n",
    "\n",
    "if pal(number):\n",
    "    print(\"The number is a palindrome.\")\n",
    "else:\n",
    "    print(\"The number is not a palindrome.\")"
   ]
  },
  {
   "cell_type": "code",
   "execution_count": 3,
   "id": "f57e2186",
   "metadata": {},
   "outputs": [
    {
     "name": "stdout",
     "output_type": "stream",
     "text": [
      "Enter the starting number: 4\n",
      "Enter the ending number: 6\n",
      "Multiples of 3 and 5 within the given interval:\n",
      "5\n",
      "6\n"
     ]
    }
   ],
   "source": [
    "#2.Python Program to Print all multiples of 3 and 5 in an Interval \n",
    "x = int(input(\"Enter the starting number: \"))\n",
    "y = int(input(\"Enter the ending number: \"))\n",
    "\n",
    "multiples = [n for n in range(x, y+1) if n % 3 == 0 or n % 5 == 0]\n",
    "\n",
    "print(\"Multiples of 3 and 5 within the given interval:\")\n",
    "for n in multiples:\n",
    "    print(n)"
   ]
  },
  {
   "cell_type": "code",
   "execution_count": 4,
   "id": "e94ef7cb",
   "metadata": {},
   "outputs": [
    {
     "name": "stdout",
     "output_type": "stream",
     "text": [
      "Enter a number: 7\n",
      "The factorial of 7 is: 5040\n"
     ]
    }
   ],
   "source": [
    "#3.Python Program to Find the Factorial of a Number \n",
    "n = int(input(\"Enter a number: \"))\n",
    "\n",
    "factorial = 1\n",
    "for num in range(1, n+1):\n",
    "    factorial *= num\n",
    "\n",
    "print(\"The factorial of\", n, \"is:\", factorial)"
   ]
  },
  {
   "cell_type": "code",
   "execution_count": 6,
   "id": "e4c623e1",
   "metadata": {},
   "outputs": [
    {
     "name": "stdout",
     "output_type": "stream",
     "text": [
      "Enter the number of terms: 7\n",
      "Fibonacci sequence:\n",
      "0\n",
      "1\n",
      "1\n",
      "2\n",
      "3\n",
      "5\n",
      "8\n"
     ]
    }
   ],
   "source": [
    "#4.Python Program to Print the Fibonacci sequence \n",
    "terms = int(input(\"Enter the number of terms: \"))\n",
    "x, y = 0, 1\n",
    "print(\"Fibonacci sequence:\")\n",
    "print(x)\n",
    "print(y)\n",
    "\n",
    "for _ in range(terms - 2):\n",
    "    x, y = y, x + y\n",
    "    print(y)"
   ]
  },
  {
   "cell_type": "code",
   "execution_count": 8,
   "id": "04678155",
   "metadata": {},
   "outputs": [
    {
     "name": "stdout",
     "output_type": "stream",
     "text": [
      "Enter a number: 123123\n",
      "123123 is not Armstrong number.\n"
     ]
    }
   ],
   "source": [
    "#5.Python Program to Check Armstrong Number\n",
    "n = int(input(\"Enter a number: \"))\n",
    "num_digits = len(str(n))\n",
    "s = sum(int(digit) ** num_digits for digit in str(n))\n",
    "if n == s:\n",
    "    print(n, \"is Armstrong number.\")\n",
    "else:\n",
    "    print(n, \"is not Armstrong number.\")"
   ]
  },
  {
   "cell_type": "code",
   "execution_count": null,
   "id": "821d855d",
   "metadata": {},
   "outputs": [],
   "source": []
  }
 ],
 "metadata": {
  "kernelspec": {
   "display_name": "Python 3 (ipykernel)",
   "language": "python",
   "name": "python3"
  },
  "language_info": {
   "codemirror_mode": {
    "name": "ipython",
    "version": 3
   },
   "file_extension": ".py",
   "mimetype": "text/x-python",
   "name": "python",
   "nbconvert_exporter": "python",
   "pygments_lexer": "ipython3",
   "version": "3.9.13"
  }
 },
 "nbformat": 4,
 "nbformat_minor": 5
}

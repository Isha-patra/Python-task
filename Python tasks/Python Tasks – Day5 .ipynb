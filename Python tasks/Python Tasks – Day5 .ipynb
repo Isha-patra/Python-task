{
 "cells": [
  {
   "cell_type": "markdown",
   "id": "a60e8242",
   "metadata": {},
   "source": [
    "1.What is difference between shallow copy and deep copy? \n",
    "\n",
    "Shallow copy constructs a new compound object and then (to the extent possible) inserts references into it to the objects found in the original.\n",
    "Deep copy constructs a new compound object and then, recursively, inserts copies into it of the objects found in the original."
   ]
  },
  {
   "cell_type": "code",
   "execution_count": 1,
   "id": "6570d1d9",
   "metadata": {},
   "outputs": [],
   "source": [
    "#2\n",
    "books = [\n",
    "    {\n",
    "        'title': 'Book1',\n",
    "        'author': 'Eric',\n",
    "        'isbn': '9781593279288',\n",
    "        'available': True\n",
    "    },\n",
    "    {\n",
    "        'title': 'Book2',\n",
    "        'author': 'Thomas',\n",
    "        'isbn': '9780135957059',\n",
    "        'available': False\n",
    "    },\n",
    "    {\n",
    "        'title': 'Book3',\n",
    "        'author': 'Mark',\n",
    "        'isbn': '9780132350884',\n",
    "        'available': True\n",
    "    },\n",
    "]\n",
    "students = [\n",
    "    {\n",
    "        'name': 'Smith',\n",
    "        'student_id': 'S123456',\n",
    "        'books_borrowed': ['9781593279288']\n",
    "    },\n",
    "    {\n",
    "        'name': 'Jane',\n",
    "        'student_id': 'S789012',\n",
    "        'books_borrowed': ['9780135957059', '9780132350884']\n",
    "    },\n",
    "]"
   ]
  },
  {
   "cell_type": "markdown",
   "id": "3e0959b8",
   "metadata": {},
   "source": [
    "3.This chapter introduced assignment statements, like spam = 10. What is the difference between an expression and a statement?\n",
    "\n",
    "\n",
    "\n",
    "Expression can be assigned or used as operands while statement can only be declared.\n",
    "\n",
    "Statement create side effects to be useful while expression are values or execute to values.\n",
    "\n",
    "Expression are used to compute values while statement perform actions or control the flow of a program"
   ]
  },
  {
   "cell_type": "markdown",
   "id": "0f6c41ab",
   "metadata": {},
   "source": [
    "4.Define following \n",
    "\n",
    "Atomic data types / Primary data types - the fundamental building blocks of programming languages. \n",
    "                                         These data types represent basic, indivisible units of \n",
    "                                         information that can be manipulated by the computer.\n",
    "        Ex- booleans, integers, characters and floats.\n",
    "\n",
    "Secondary data type / User Defined Data Type -  These are derived from atomic data types and are built\n",
    "                                                using combinations or collections of atomic data types.\n",
    "                                                These types provide a way to organize and manipulate more \n",
    "                                                complex data structures.\n",
    "            Ex- arrays, structures, classes and lists.\n",
    "            "
   ]
  },
  {
   "cell_type": "markdown",
   "id": "47acde97",
   "metadata": {},
   "source": [
    "5.What is UDF? \n",
    "\n",
    "UDF- User Defined Function\n",
    "\n",
    "It is a programming construct that allows us to create our own functions in a programming language."
   ]
  },
  {
   "cell_type": "code",
   "execution_count": null,
   "id": "5b054244",
   "metadata": {},
   "outputs": [],
   "source": []
  }
 ],
 "metadata": {
  "kernelspec": {
   "display_name": "Python 3 (ipykernel)",
   "language": "python",
   "name": "python3"
  },
  "language_info": {
   "codemirror_mode": {
    "name": "ipython",
    "version": 3
   },
   "file_extension": ".py",
   "mimetype": "text/x-python",
   "name": "python",
   "nbconvert_exporter": "python",
   "pygments_lexer": "ipython3",
   "version": "3.9.13"
  }
 },
 "nbformat": 4,
 "nbformat_minor": 5
}

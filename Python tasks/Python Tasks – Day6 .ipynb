{
 "cells": [
  {
   "cell_type": "markdown",
   "id": "c2e1926f",
   "metadata": {},
   "source": [
    "1.Write down 10 projects ideas you want to implement using python.\n",
    "\n",
    "project ideas I would like to implement\n",
    "\n",
    "     Hangman\n",
    "     \n",
    "     Dice Rolling Simulator\n",
    "     \n",
    "     Number Guessing\n",
    "     \n",
    "     Spin a Yarn\n",
    "     \n",
    "     Calculator\n",
    "     \n",
    "     Password Generator\n",
    "         "
   ]
  },
  {
   "cell_type": "code",
   "execution_count": 1,
   "id": "ab19dbc9",
   "metadata": {},
   "outputs": [],
   "source": [
    "#2.Create at list 5 objects using list, dictionary, it will be good if you store realistic data \n",
    "employee = {\n",
    "    \"name\": \"Jo\",\n",
    "    \"age\": 32,\n",
    "    \"position\": \"Software Engineer\",\n",
    "    \"salary\": 5000000,\n",
    "    \"skills\": [\"Python\", \"HTML\", \"SQL\"],\n",
    "    \"projects\": [\"Project M\", \"Project K\", \"Project D\"]\n",
    "}"
   ]
  },
  {
   "cell_type": "code",
   "execution_count": 2,
   "id": "4d500400",
   "metadata": {},
   "outputs": [],
   "source": [
    "movie = {\n",
    "    \"title\": \"Andhadhun\",\n",
    "    \"director\": \"Sriram Raghavan\",\n",
    "    \"genre\": \"Drama\",\n",
    "    \"release_year\": 2018,\n",
    "    \"actors\": [\"Ayushmann Khurrana\", \"Tabu\"],\n",
    "    \"ratings\": [4.9, 4.8, 4.7, 5],\n",
    "    \"reviews\": [\n",
    "        {\"user\": \"User1\", \"rating\": 5, \"comment\": \"One of the best movies ever!\"},\n",
    "        {\"user\": \"User2\", \"rating\": 4.5, \"comment\": \"Incredible performances.\"}\n",
    "    ]\n",
    "}"
   ]
  },
  {
   "cell_type": "code",
   "execution_count": 3,
   "id": "56fd84e7",
   "metadata": {},
   "outputs": [],
   "source": [
    "restaurant = {\n",
    "    \"name\": \"Ityfigylxuai\",\n",
    "    \"location\": \"123 Main St, Bbsr\",\n",
    "    \"cuisine\": \"Italian\",\n",
    "    \"ratings\": [4.2, 4.5, 4.0, 4.8],\n",
    "    \"reviews\": [\n",
    "        {\"user\": \"User1\", \"rating\": 4, \"comment\": \"Delicious pasta!\"},\n",
    "        {\"user\": \"User2\", \"rating\": 5, \"comment\": \"Great service.\"}\n",
    "    ],\n",
    "    \"menu\": [\"Pizza\", \"Pasta\", \"Salad\"]\n",
    "}"
   ]
  },
  {
   "cell_type": "code",
   "execution_count": 4,
   "id": "32211b0e",
   "metadata": {},
   "outputs": [],
   "source": [
    "book = {\n",
    "    \"title\": \"Afyufyugi\",\n",
    "    \"author\": \"Kim Yuddgu\",\n",
    "    \"genre\": \"Fiction\",\n",
    "    \"publication_year\": 1980,\n",
    "    \"publisher\": \"Young Jump\",\n",
    "    \"ratings\": [4.8, 4.5, 4.9, 4.7],\n",
    "    \"reviews\": [\n",
    "        {\"user\": \"User1\", \"rating\": 5, \"comment\": \"A classic!\"},\n",
    "        {\"user\": \"User2\", \"rating\": 3.5, \"comment\": \"Nice story.\"}\n",
    "    ]\n",
    "}"
   ]
  },
  {
   "cell_type": "code",
   "execution_count": 5,
   "id": "c7d1640e",
   "metadata": {},
   "outputs": [],
   "source": [
    "product = {\n",
    "    \"name\": \"Airdopes\",\n",
    "    \"brand\": \"boAt\",\n",
    "    \"price\": 1299,\n",
    "    \"in_stock\": True,\n",
    "    \"features\": [\"Low Latency\", \" ASAP Charge\", \"5G Connectivity\"],\n",
    "    \"reviews\": [\n",
    "        {\"user\": \"User1\", \"rating\": 4.5, \"comment\": \"Great\"},\n",
    "        {\"user\": \"User2\", \"rating\": 2.8, \"comment\": \"Not worth it.\"}\n",
    "    ]\n",
    "}"
   ]
  },
  {
   "cell_type": "markdown",
   "id": "ba647d2b",
   "metadata": {},
   "source": [
    "3.What is duck typing in python, what are Dunder or special methods?\n",
    "\n",
    "Duck typing is a concept where the suitability of an object's behavior for a given context is determined by the presence of certain methods and attributes rather than its specific type or class.\n",
    "\n",
    "Dunder methods are methods that allow instances of a class to interact with the built-in functions and operators of the language.ex-  _ _str_ _ or _ _add_ _ .(note-its double underscore without space)"
   ]
  },
  {
   "cell_type": "markdown",
   "id": "a2095c80",
   "metadata": {},
   "source": [
    "4.What are operators? How many types of operators are there in python?  \n",
    "\n",
    "Operators are symbols used to perform operations on values or variables.\n",
    "\n",
    "Types-\n",
    "\n",
    "Arithmetic operators\n",
    "\n",
    "Assignment operators\n",
    "\n",
    "Comparison operators\n",
    "\n",
    "Logical operators\n",
    "\n",
    "Identity operators\n",
    "\n",
    "Membership operators\n",
    "\n",
    "Bitwise operators\n"
   ]
  },
  {
   "cell_type": "code",
   "execution_count": null,
   "id": "407b84fe",
   "metadata": {},
   "outputs": [],
   "source": []
  }
 ],
 "metadata": {
  "kernelspec": {
   "display_name": "Python 3 (ipykernel)",
   "language": "python",
   "name": "python3"
  },
  "language_info": {
   "codemirror_mode": {
    "name": "ipython",
    "version": 3
   },
   "file_extension": ".py",
   "mimetype": "text/x-python",
   "name": "python",
   "nbconvert_exporter": "python",
   "pygments_lexer": "ipython3",
   "version": "3.9.13"
  }
 },
 "nbformat": 4,
 "nbformat_minor": 5
}

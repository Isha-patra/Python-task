{
 "cells": [
  {
   "cell_type": "code",
   "execution_count": 1,
   "id": "5aac56ce",
   "metadata": {},
   "outputs": [
    {
     "name": "stdout",
     "output_type": "stream",
     "text": [
      "Enter a number: 71727\n",
      "24\n",
      "6\n"
     ]
    }
   ],
   "source": [
    "#1.Program to find the sum of digits of a number until the sum is reduced to 1 digit\n",
    "num=int(input('Enter a number: '))\n",
    "while num>10:\n",
    "    m=num\n",
    "    sum=0\n",
    "    while m:\n",
    "        a=m % 10\n",
    "        sum=sum + a\n",
    "        m=m // 10\n",
    "    num=sum\n",
    "    print(sum)"
   ]
  },
  {
   "cell_type": "code",
   "execution_count": 2,
   "id": "3449f223",
   "metadata": {},
   "outputs": [
    {
     "name": "stdout",
     "output_type": "stream",
     "text": [
      "Enter the first number: 45\n",
      "Enter the second number: 20\n",
      "\n",
      "First Number is:  45\n",
      "Second Number is:  20\n",
      "The HCF is:  5\n",
      "LCM of the two numbers is:  180\n"
     ]
    }
   ],
   "source": [
    "#2. Program to find LCM and HCF of two numbers \n",
    "a = int(input(\"Enter the first number: \"))\n",
    "b = int(input(\"Enter the second number: \"))\n",
    "HCF = 1\n",
    "for i in range(2,a+1):\n",
    "    if(a%i==0 and b%i==0):\n",
    "        HCF = i\n",
    "print(\"\\nFirst Number is: \",a)\n",
    "print(\"Second Number is: \",b)\n",
    "print(\"The HCF is: \",HCF)\n",
    "LCM = int((a*b)/(HCF))\n",
    "print(\"LCM of the two numbers is: \",LCM)"
   ]
  },
  {
   "cell_type": "code",
   "execution_count": 3,
   "id": "5c26ce1d",
   "metadata": {},
   "outputs": [
    {
     "name": "stdout",
     "output_type": "stream",
     "text": [
      "Enter a number: 7\n",
      "27\n",
      "216\n"
     ]
    }
   ],
   "source": [
    "#.3Write a program to accept any number n and print the cube of all numbers from 1 to n which are divisible by 3. Rewrite the program using a continue statement.\n",
    "n=int(input('Enter a number: '))\n",
    "for i in range(1,n):\n",
    "    if i%3==0:\n",
    "        print(i**3)"
   ]
  },
  {
   "cell_type": "code",
   "execution_count": 5,
   "id": "28c4b913",
   "metadata": {},
   "outputs": [
    {
     "name": "stdout",
     "output_type": "stream",
     "text": [
      "Enter a number: 7\n",
      "27\n",
      "216\n"
     ]
    }
   ],
   "source": [
    "n=int(input('Enter a number: '))\n",
    "for i in range(1,n):\n",
    "    if i%3!=0:\n",
    "        continue\n",
    "    else:\n",
    "        print(i**3)"
   ]
  },
  {
   "cell_type": "code",
   "execution_count": 1,
   "id": "a2e4ba49",
   "metadata": {},
   "outputs": [
    {
     "name": "stdout",
     "output_type": "stream",
     "text": [
      "For Student: 1:-\n",
      "Enter roll no: 1\n",
      "Invalid Roll\n",
      "Enter roll no: 1234\n",
      "Marks for Subject: 1: 76\n",
      "Marks for Subject: 2: 87\n",
      "Marks for Subject: 3: 93\n",
      "\n",
      "For Student: 2:-\n",
      "Enter roll no: 1235\n",
      "Marks for Subject: 1: 67\n",
      "Marks for Subject: 2: 84\n",
      "Marks for Subject: 3: 93\n",
      "\n",
      "For Student: 3:-\n",
      "Enter roll no: 1236\n",
      "Marks for Subject: 1: 87\n",
      "Marks for Subject: 2: 97\n",
      "Marks for Subject: 3: 95\n",
      "\n",
      "For Student: 4:-\n",
      "Enter roll no: 1237\n",
      "Marks for Subject: 1: 76\n",
      "Marks for Subject: 2: 94\n",
      "Marks for Subject: 3: 39\n",
      "\n",
      "For Student: 5:-\n",
      "Enter roll no: 1238\n",
      "Marks for Subject: 1: 78\n",
      "Marks for Subject: 2: 98\n",
      "Marks for Subject: 3: 86\n",
      "\n",
      "For Student: 6:-\n",
      "Enter roll no: 1239\n",
      "Marks for Subject: 1: 76\n",
      "Marks for Subject: 2: 46\n",
      "Marks for Subject: 3: 82\n",
      "\n",
      "For Student: 7:-\n",
      "Enter roll no: 1240\n",
      "Marks for Subject: 1: 76\n",
      "Marks for Subject: 2: 98\n",
      "Marks for Subject: 3: 43\n",
      "\n",
      "For Student: 8:-\n",
      "Enter roll no: 1241\n",
      "Marks for Subject: 1: 56\n",
      "Marks for Subject: 2: 77\n",
      "Marks for Subject: 3: 93\n",
      "\n",
      "For Student: 9:-\n",
      "Enter roll no: 1242\n",
      "Marks for Subject: 1: 87\n",
      "Marks for Subject: 2: 87\n",
      "Marks for Subject: 3: 67\n",
      "\n",
      "For Student: 10:-\n",
      "Enter roll no: 1243\n",
      "Marks for Subject: 1: 56\n",
      "Marks for Subject: 2: 87\n",
      "Marks for Subject: 3: 92\n",
      "\n",
      "Results = \n",
      "[(1234, [76, 87, 93, 67, 84, 93, 87, 97, 95, 76, 94, 39, 78, 98, 86, 76, 46, 82, 76, 98, 43, 56, 77, 93, 87, 87, 67, 56, 87, 92]), (1235, [76, 87, 93, 67, 84, 93, 87, 97, 95, 76, 94, 39, 78, 98, 86, 76, 46, 82, 76, 98, 43, 56, 77, 93, 87, 87, 67, 56, 87, 92]), (1236, [76, 87, 93, 67, 84, 93, 87, 97, 95, 76, 94, 39, 78, 98, 86, 76, 46, 82, 76, 98, 43, 56, 77, 93, 87, 87, 67, 56, 87, 92])]\n",
      "No of students with total marks > 200: 3\n",
      "Roll no of student with highest total marks: 1236\n"
     ]
    }
   ],
   "source": [
    "#4.Write a program to read roll number and marks of 10 students in 3 subjects. The valid range for roll number is 1000-9999, if the roll number entered is not in this range, the user should be asked to enter again. Calculate total marks of only those students who get more than or equal to 40 marks in each subject. Count the number of students whose total is more than 200. Print the roll number of the students who gets the highest total. \n",
    "def rollno(roll):\n",
    "    if roll>=1000 and roll<=9999:\n",
    "        return True\n",
    "    else:\n",
    "        return False\n",
    "def calcmark(marks):\n",
    "    total=sum(marks)\n",
    "    return total\n",
    "data=[]\n",
    "hightotal=0\n",
    "highrollno=0\n",
    "counttotal200=0\n",
    "for i in range(0,10):\n",
    "    print(f\"For Student: {i+1}:-\")\n",
    "    while True:\n",
    "        roll=int(input('Enter roll no: '))\n",
    "        if rollno(roll):\n",
    "            break\n",
    "        else:\n",
    "            print('Invalid Roll')         \n",
    "        marks=[]\n",
    "    for j in range(0,3):\n",
    "        marks.append(int(input(f'Marks for Subject: {j+1}: ')))\n",
    "    print()\n",
    "    if all(mark>=40 for mark in marks):\n",
    "        totmark=calcmark(marks)\n",
    "        if totmark>200:\n",
    "            counttotal200+=1\n",
    "        if totmark>hightotal:\n",
    "            hightotal=totmark\n",
    "            highrollno=roll\n",
    "        data.append((roll,marks))\n",
    "print('Results = ')\n",
    "print(data)\n",
    "print(f'No of students with total marks > 200: {counttotal200}')\n",
    "print(f'Roll no of student with highest total marks: {highrollno}')"
   ]
  },
  {
   "cell_type": "code",
   "execution_count": 2,
   "id": "e16c95cb",
   "metadata": {},
   "outputs": [
    {
     "name": "stdout",
     "output_type": "stream",
     "text": [
      "Enter a number: 928642697\n",
      "No of digits:  9\n"
     ]
    }
   ],
   "source": [
    "#5.Write a program to input a number and count the digits in it. Use while loop and the program should work correctly for 0 also\n",
    "num=int(input('Enter a number: '))\n",
    "count=0\n",
    "if num==0:\n",
    "    print('No of digits: ',1)\n",
    "else:\n",
    "    while num:\n",
    "        count+=1\n",
    "        num=num//10\n",
    "print('No of digits: ',count)"
   ]
  },
  {
   "cell_type": "code",
   "execution_count": 3,
   "id": "57c070e6",
   "metadata": {},
   "outputs": [
    {
     "name": "stdout",
     "output_type": "stream",
     "text": [
      "Enter a no: 1234567\n",
      "The reversed no is:  7654321\n",
      "The double of reversed no:  15308642\n"
     ]
    }
   ],
   "source": [
    "#6.Write a program to enter a number and find the reverse of that number. Also display the double of the reverse number. (don’t use string magic) \n",
    "num=int(input(\"Enter a no: \"))\n",
    "rev=0\n",
    "while num:\n",
    "    a=num%10\n",
    "    rev=rev*10+a\n",
    "    num=num//10\n",
    "print('The reversed no is: ',rev)\n",
    "print('The double of reversed no: ',2*rev)"
   ]
  },
  {
   "cell_type": "code",
   "execution_count": null,
   "id": "bcd18739",
   "metadata": {},
   "outputs": [],
   "source": []
  }
 ],
 "metadata": {
  "kernelspec": {
   "display_name": "Python 3 (ipykernel)",
   "language": "python",
   "name": "python3"
  },
  "language_info": {
   "codemirror_mode": {
    "name": "ipython",
    "version": 3
   },
   "file_extension": ".py",
   "mimetype": "text/x-python",
   "name": "python",
   "nbconvert_exporter": "python",
   "pygments_lexer": "ipython3",
   "version": "3.9.13"
  }
 },
 "nbformat": 4,
 "nbformat_minor": 5
}

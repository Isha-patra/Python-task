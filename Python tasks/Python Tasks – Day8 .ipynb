{
 "cells": [
  {
   "cell_type": "markdown",
   "id": "fd3aaae7",
   "metadata": {},
   "source": [
    "1.What are the two values of the Boolean data type? How do you write them?\n",
    "\n",
    "True/False"
   ]
  },
  {
   "cell_type": "markdown",
   "id": "3799c763",
   "metadata": {},
   "source": [
    "2.What are the three Boolean operators?\n",
    "\n",
    "AND , OR , NOT"
   ]
  },
  {
   "cell_type": "markdown",
   "id": "08cf8e49",
   "metadata": {},
   "source": [
    "3.Write out the truth tables of each Boolean operator (that is, every possible combination of Boolean values for the operator and what they evaluate to). \n",
    "\n",
    "And - T/T -> T, T/F -> F, F/T -> F, F/F -> F\n",
    "\n",
    "Or - T/T -> T, T/F -> T, F/T -> T, F/F -> F\n",
    "\n",
    "Not - T -> F, F -> T"
   ]
  },
  {
   "cell_type": "markdown",
   "id": "ca956179",
   "metadata": {},
   "source": [
    "4.What do the following expressions evaluate to? \n",
    "\n",
    "(5 > 4) and (3 == 5)  - False\n",
    "\n",
    "not (5 > 4)   - False\n",
    "\n",
    "(5 > 4) or (3 == 5)   - True\n",
    "\n",
    "not ((5 > 4) or (3 == 5))   - False\n",
    "\n",
    "(True and True) and (True == False)   - False\n",
    "\n",
    "(not False) or (not True)   - True"
   ]
  },
  {
   "cell_type": "markdown",
   "id": "13af4da8",
   "metadata": {},
   "source": [
    "5.What are the six comparison operators?\n",
    "\n",
    "== , != , > , < , >= , <="
   ]
  },
  {
   "cell_type": "markdown",
   "id": "ca689738",
   "metadata": {},
   "source": [
    "6.What is the difference between the equal to operator and the assignment operator?\n",
    "\n",
    "Equal to operator (==) is used for comparison and checks if two values are equal, returning a Boolean result of true or false. \n",
    "\n",
    "Assignment operator (=) is used to assign a value to a variable, assigning the value on the right side of the operator to the variable on the left side."
   ]
  },
  {
   "cell_type": "markdown",
   "id": "1c1d6697",
   "metadata": {},
   "source": [
    "7.Explain what a condition is and where you would use one. \n",
    "\n",
    "Conditional statements allow us to make decisions based on the values of variables or the result of comparisons. \n",
    "\n",
    "We can use one to check if a number is odd or even in if  elif  else."
   ]
  },
  {
   "cell_type": "code",
   "execution_count": null,
   "id": "79df5d26",
   "metadata": {},
   "outputs": [],
   "source": []
  }
 ],
 "metadata": {
  "kernelspec": {
   "display_name": "Python 3 (ipykernel)",
   "language": "python",
   "name": "python3"
  },
  "language_info": {
   "codemirror_mode": {
    "name": "ipython",
    "version": 3
   },
   "file_extension": ".py",
   "mimetype": "text/x-python",
   "name": "python",
   "nbconvert_exporter": "python",
   "pygments_lexer": "ipython3",
   "version": "3.9.13"
  }
 },
 "nbformat": 4,
 "nbformat_minor": 5
}

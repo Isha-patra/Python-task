{
 "cells": [
  {
   "cell_type": "code",
   "execution_count": 1,
   "id": "ccbfb1af",
   "metadata": {},
   "outputs": [
    {
     "name": "stdout",
     "output_type": "stream",
     "text": [
      "*\n",
      "**\n",
      "***\n",
      "****\n",
      "*****\n"
     ]
    }
   ],
   "source": [
    "i=1\n",
    "while i<=5:\n",
    "    s='*'*i\n",
    "    print(s)\n",
    "    i=i+1"
   ]
  },
  {
   "cell_type": "code",
   "execution_count": 2,
   "id": "c762c0f9",
   "metadata": {},
   "outputs": [
    {
     "name": "stdout",
     "output_type": "stream",
     "text": [
      "1\n",
      "22\n",
      "333\n",
      "4444\n",
      "55555\n"
     ]
    }
   ],
   "source": [
    "i=1\n",
    "while i<=5:\n",
    "    s=str(i)*i\n",
    "    print(s)\n",
    "    i=i+1"
   ]
  },
  {
   "cell_type": "code",
   "execution_count": 3,
   "id": "84dc5116",
   "metadata": {},
   "outputs": [
    {
     "name": "stdout",
     "output_type": "stream",
     "text": [
      "1\n",
      "12\n",
      "123\n",
      "1234\n",
      "12345\n"
     ]
    }
   ],
   "source": [
    "for i in range(1,6):\n",
    "    for j in range(1,i+1):\n",
    "        print(j,end='')\n",
    "    print()"
   ]
  },
  {
   "cell_type": "code",
   "execution_count": 4,
   "id": "0ef46eee",
   "metadata": {},
   "outputs": [
    {
     "name": "stdout",
     "output_type": "stream",
     "text": [
      "2\n",
      "34\n",
      "456\n",
      "5678\n",
      "678910\n"
     ]
    }
   ],
   "source": [
    "for i in range(1,6):\n",
    "    for j in range(1,i+1):\n",
    "        print(j+i,end='')\n",
    "    print()"
   ]
  },
  {
   "cell_type": "code",
   "execution_count": 5,
   "id": "4be9d9da",
   "metadata": {},
   "outputs": [
    {
     "name": "stdout",
     "output_type": "stream",
     "text": [
      "1\n",
      "01\n",
      "101\n",
      "0101\n",
      "10101\n"
     ]
    }
   ],
   "source": [
    "for i in range(1,6):\n",
    "    for j in range(1,i+1):\n",
    "        if (i+j)%2==0:\n",
    "            print(1,end='')\n",
    "        else:\n",
    "            print(0,end='')\n",
    "    print()"
   ]
  },
  {
   "cell_type": "code",
   "execution_count": 6,
   "id": "0c77182d",
   "metadata": {},
   "outputs": [
    {
     "name": "stdout",
     "output_type": "stream",
     "text": [
      "1\n",
      "23\n",
      "456\n",
      "78910\n",
      "1112131415\n"
     ]
    }
   ],
   "source": [
    "n=0\n",
    "for i in range(1,6):\n",
    "    for j in range(1,i+1):\n",
    "        n=n+1\n",
    "        print(n,end='')\n",
    "    print()"
   ]
  },
  {
   "cell_type": "code",
   "execution_count": 7,
   "id": "62891d7c",
   "metadata": {},
   "outputs": [
    {
     "name": "stdout",
     "output_type": "stream",
     "text": [
      "\n",
      "5\n",
      "54\n",
      "543\n",
      "5432\n",
      "54321\n"
     ]
    }
   ],
   "source": [
    "for i in range(5,-1,-1):\n",
    "    for j in range(5,i,-1):\n",
    "        print(j,end='')\n",
    "    print()"
   ]
  },
  {
   "cell_type": "code",
   "execution_count": 8,
   "id": "f60f5d9f",
   "metadata": {},
   "outputs": [
    {
     "name": "stdout",
     "output_type": "stream",
     "text": [
      "5\n",
      "44\n",
      "333\n",
      "2222\n",
      "11111\n"
     ]
    }
   ],
   "source": [
    "i=1\n",
    "n=5\n",
    "while i<=5:\n",
    "    s=str(n)*i\n",
    "    print(s)\n",
    "    i=i+1\n",
    "    n=n-1"
   ]
  },
  {
   "cell_type": "code",
   "execution_count": 9,
   "id": "f6eb2484",
   "metadata": {},
   "outputs": [
    {
     "name": "stdout",
     "output_type": "stream",
     "text": [
      "*****\n",
      "****\n",
      "***\n",
      "**\n",
      "*\n"
     ]
    }
   ],
   "source": [
    "i=5\n",
    "while i>=1:\n",
    "    s='*'*i\n",
    "    print(s)\n",
    "    i=i-1"
   ]
  },
  {
   "cell_type": "code",
   "execution_count": 10,
   "id": "bdfd4704",
   "metadata": {},
   "outputs": [
    {
     "name": "stdout",
     "output_type": "stream",
     "text": [
      "11111\n",
      "2222\n",
      "333\n",
      "22\n",
      "1\n"
     ]
    }
   ],
   "source": [
    "i=5\n",
    "n=1\n",
    "while i>=1:\n",
    "    s=str(n)*i\n",
    "    print(s)\n",
    "    if i<=5//2+1:\n",
    "        n=n-1\n",
    "    else:\n",
    "        n=n+1\n",
    "    i=i-1"
   ]
  },
  {
   "cell_type": "code",
   "execution_count": 11,
   "id": "bab214bb",
   "metadata": {},
   "outputs": [
    {
     "name": "stdout",
     "output_type": "stream",
     "text": [
      "12345\n",
      "1234\n",
      "123\n",
      "12\n",
      "1\n",
      "\n"
     ]
    }
   ],
   "source": [
    "for i in range(6,0,-1):\n",
    "    for j in range(1,i):\n",
    "        print(j,end='')\n",
    "    print()"
   ]
  },
  {
   "cell_type": "code",
   "execution_count": 12,
   "id": "e3316a63",
   "metadata": {},
   "outputs": [
    {
     "name": "stdout",
     "output_type": "stream",
     "text": [
      "55555\n",
      "4444\n",
      "333\n",
      "22\n",
      "1\n"
     ]
    }
   ],
   "source": [
    "i=5\n",
    "n=5\n",
    "while i>=1:\n",
    "    s=str(n)*i\n",
    "    print(s)\n",
    "    i=i-1\n",
    "    n=n-1"
   ]
  },
  {
   "cell_type": "code",
   "execution_count": 13,
   "id": "49b43c06",
   "metadata": {},
   "outputs": [
    {
     "name": "stdout",
     "output_type": "stream",
     "text": [
      "54321\n",
      "5432\n",
      "543\n",
      "54\n",
      "5\n"
     ]
    }
   ],
   "source": [
    "for i in range(0,5):\n",
    "    for j in range(5,i,-1):\n",
    "        print(j,end='')\n",
    "    print()"
   ]
  },
  {
   "cell_type": "code",
   "execution_count": 14,
   "id": "28ccb664",
   "metadata": {},
   "outputs": [
    {
     "name": "stdout",
     "output_type": "stream",
     "text": [
      "    *     \n",
      "   * *    \n",
      "  * * *   \n",
      " * * * *  \n",
      "* * * * * \n"
     ]
    }
   ],
   "source": [
    "i=1\n",
    "while i<=5:\n",
    "    s='* '*i\n",
    "    print(s.center(10))\n",
    "    i=i+1"
   ]
  },
  {
   "cell_type": "code",
   "execution_count": 15,
   "id": "6f355045",
   "metadata": {},
   "outputs": [
    {
     "name": "stdout",
     "output_type": "stream",
     "text": [
      "    1     \n",
      "   1 2    \n",
      "  1 2 3   \n",
      " 1 2 3 4  \n",
      "1 2 3 4 5 \n"
     ]
    }
   ],
   "source": [
    "for i in range(1,6):\n",
    "    s=''\n",
    "    for j in range(1,i+1):\n",
    "        s=s+str(j)+' '\n",
    "    print(s.center(10))"
   ]
  },
  {
   "cell_type": "code",
   "execution_count": 16,
   "id": "6783a918",
   "metadata": {},
   "outputs": [
    {
     "name": "stdout",
     "output_type": "stream",
     "text": [
      "    *\n",
      "   **\n",
      "  ***\n",
      " ****\n",
      "*****\n"
     ]
    }
   ],
   "source": [
    "i=1\n",
    "while i<=5:\n",
    "    s='*'*i\n",
    "    print(s.rjust(5))\n",
    "    i=i+1"
   ]
  },
  {
   "cell_type": "code",
   "execution_count": 17,
   "id": "82d46a8a",
   "metadata": {},
   "outputs": [
    {
     "name": "stdout",
     "output_type": "stream",
     "text": [
      "    1\n",
      "   12\n",
      "  123\n",
      " 1234\n",
      "12345\n"
     ]
    }
   ],
   "source": [
    "for i in range(1,6):\n",
    "    s=''\n",
    "    for j in range(1,i+1):\n",
    "        s=s+str(j)\n",
    "    print(s.rjust(5))"
   ]
  },
  {
   "cell_type": "code",
   "execution_count": 18,
   "id": "da5b60b0",
   "metadata": {},
   "outputs": [
    {
     "name": "stdout",
     "output_type": "stream",
     "text": [
      "    *     \n",
      "   ***    \n",
      "  *****   \n",
      " *******  \n",
      "********* \n"
     ]
    }
   ],
   "source": [
    "for i in range(1,6):\n",
    "    s=''\n",
    "    for j in range(1,2*i):\n",
    "        s=s+'*'\n",
    "    print(s.center(10))"
   ]
  },
  {
   "cell_type": "code",
   "execution_count": 19,
   "id": "687db589",
   "metadata": {},
   "outputs": [
    {
     "name": "stdout",
     "output_type": "stream",
     "text": [
      "    1     \n",
      "   222    \n",
      "  33333   \n",
      " 4444444  \n",
      "555555555 \n"
     ]
    }
   ],
   "source": [
    "n=1\n",
    "for i in range(1,6):\n",
    "    s=''\n",
    "    for j in range(1,2*i):\n",
    "        s=s+str(n)\n",
    "    print(s.center(10))\n",
    "    n=n+1"
   ]
  },
  {
   "cell_type": "code",
   "execution_count": 20,
   "id": "e67078f0",
   "metadata": {},
   "outputs": [
    {
     "name": "stdout",
     "output_type": "stream",
     "text": [
      "    1     \n",
      "   123    \n",
      "  12345   \n",
      " 1234567  \n",
      "123456789 \n"
     ]
    }
   ],
   "source": [
    "for i in range(1,6):\n",
    "    s=''\n",
    "    for j in range(1,2*i):\n",
    "        s=s+str(j)\n",
    "    print(s.center(10))"
   ]
  },
  {
   "cell_type": "code",
   "execution_count": 21,
   "id": "04f99187",
   "metadata": {},
   "outputs": [
    {
     "name": "stdout",
     "output_type": "stream",
     "text": [
      "         *          \n",
      "       * * *        \n",
      "     * * * * *      \n",
      "   * * * * * * *    \n",
      " * * * * * * * * *  \n"
     ]
    }
   ],
   "source": [
    "for i in range(1,6):\n",
    "    s=''\n",
    "    for j in range(1,2*i):\n",
    "        s=s+'* '\n",
    "    print(s.center(20))"
   ]
  },
  {
   "cell_type": "code",
   "execution_count": 22,
   "id": "e9612210",
   "metadata": {},
   "outputs": [
    {
     "name": "stdout",
     "output_type": "stream",
     "text": [
      "    1     \n",
      "   232    \n",
      "  34543   \n",
      " 4567654  \n",
      "567898765 \n"
     ]
    }
   ],
   "source": [
    "n=0\n",
    "for i in range(1,6):\n",
    "    st=''\n",
    "    for j in range(1,2*i):\n",
    "        if j<=i:\n",
    "            n=n+1\n",
    "        else:\n",
    "            n=n-1\n",
    "        st=st+str(n)\n",
    "    print(st.center(10))"
   ]
  },
  {
   "cell_type": "code",
   "execution_count": 23,
   "id": "c3570f1b",
   "metadata": {},
   "outputs": [
    {
     "name": "stdout",
     "output_type": "stream",
     "text": [
      "    5     \n",
      "   545    \n",
      "  54345   \n",
      " 5432345  \n",
      "543212345 \n"
     ]
    }
   ],
   "source": [
    "for i in range(1,6):\n",
    "    st=''\n",
    "    n=6\n",
    "    for j in range(1,2*i):\n",
    "        if j<=i:\n",
    "            n=n-1\n",
    "        else:\n",
    "            n=n+1\n",
    "        st=st+str(n)\n",
    "    print(st.center(10))"
   ]
  },
  {
   "cell_type": "code",
   "execution_count": 24,
   "id": "1965a3b4",
   "metadata": {},
   "outputs": [
    {
     "name": "stdout",
     "output_type": "stream",
     "text": [
      "********* \n",
      " *******  \n",
      "  *****   \n",
      "   ***    \n",
      "    *     \n"
     ]
    }
   ],
   "source": [
    "for i in range(5,0,-1):\n",
    "    s=''\n",
    "    for j in range(1,2*i):\n",
    "        s=s+'*'\n",
    "    print(s.center(10))"
   ]
  },
  {
   "cell_type": "code",
   "execution_count": 25,
   "id": "f1aef8cb",
   "metadata": {},
   "outputs": [
    {
     "name": "stdout",
     "output_type": "stream",
     "text": [
      "555555555 \n",
      " 4444444  \n",
      "  33333   \n",
      "   222    \n",
      "    1     \n"
     ]
    }
   ],
   "source": [
    "n=5\n",
    "for i in range(5,0,-1):\n",
    "    s=''\n",
    "    for j in range(1,2*i):\n",
    "        s=s+str(n)\n",
    "    print(s.center(10))\n",
    "    n=n-1"
   ]
  },
  {
   "cell_type": "code",
   "execution_count": 26,
   "id": "72a4bedc",
   "metadata": {},
   "outputs": [
    {
     "name": "stdout",
     "output_type": "stream",
     "text": [
      "123456789 \n",
      " 1234567  \n",
      "  12345   \n",
      "   123    \n",
      "    1     \n"
     ]
    }
   ],
   "source": [
    "for i in range(5,0,-1):\n",
    "    s=''\n",
    "    for j in range(1,2*i):\n",
    "        s=s+str(j)\n",
    "    print(s.center(10))"
   ]
  },
  {
   "cell_type": "code",
   "execution_count": 27,
   "id": "be83c1aa",
   "metadata": {},
   "outputs": [
    {
     "name": "stdout",
     "output_type": "stream",
     "text": [
      "567898765 \n",
      " 4567654  \n",
      "  34543   \n",
      "   232    \n",
      "    1     \n"
     ]
    }
   ],
   "source": [
    "for i in range(5,0,-1):\n",
    "    st=''\n",
    "    n=i-1\n",
    "    for j in range(1,2*i):\n",
    "        if j<=i:\n",
    "            n=n+1\n",
    "        else:\n",
    "            n=n-1\n",
    "        st=st+str(n)\n",
    "    print(st.center(10))"
   ]
  },
  {
   "cell_type": "code",
   "execution_count": 28,
   "id": "b6b28c90",
   "metadata": {},
   "outputs": [
    {
     "name": "stdout",
     "output_type": "stream",
     "text": [
      "543212345 \n",
      " 5432345  \n",
      "  54345   \n",
      "   545    \n",
      "    5     \n"
     ]
    }
   ],
   "source": [
    "for i in range(5,0,-1):\n",
    "    st=''\n",
    "    n=6\n",
    "    for j in range(1,2*i):\n",
    "        if j<=i:\n",
    "            n=n-1\n",
    "        else:\n",
    "            n=n+1\n",
    "        st=st+str(n)\n",
    "    print(st.center(10))"
   ]
  },
  {
   "cell_type": "code",
   "execution_count": 29,
   "id": "a015283e",
   "metadata": {},
   "outputs": [
    {
     "name": "stdout",
     "output_type": "stream",
     "text": [
      "    *     \n",
      "   ***    \n",
      "  *****   \n",
      " *******  \n",
      "********* \n",
      " *******  \n",
      "  *****   \n",
      "   ***    \n",
      "    *     \n"
     ]
    }
   ],
   "source": [
    "for i in range(1,6):\n",
    "    s=''\n",
    "    for j in range(1,2*i):\n",
    "        s=s+'*'\n",
    "    print(s.center(10))\n",
    "for i in range(4,0,-1):\n",
    "    s=''\n",
    "    for j in range(1,2*i):\n",
    "        s=s+'*'\n",
    "    print(s.center(10))"
   ]
  },
  {
   "cell_type": "code",
   "execution_count": 30,
   "id": "977706fd",
   "metadata": {},
   "outputs": [
    {
     "name": "stdout",
     "output_type": "stream",
     "text": [
      "    1     \n",
      "   222    \n",
      "  33333   \n",
      " 4444444  \n",
      "555555555 \n",
      " 4444444  \n",
      "  33333   \n",
      "   222    \n",
      "    1     \n"
     ]
    }
   ],
   "source": [
    "n=1\n",
    "for i in range(1,6):\n",
    "    s=''\n",
    "    for j in range(1,2*i):\n",
    "        s=s+str(n)\n",
    "    print(s.center(10))\n",
    "    n=n+1\n",
    "n=4\n",
    "for i in range(4,0,-1):\n",
    "    s=''\n",
    "    for j in range(1,2*i):\n",
    "        s=s+str(n)\n",
    "    print(s.center(10))\n",
    "    n=n-1"
   ]
  },
  {
   "cell_type": "code",
   "execution_count": 31,
   "id": "d693663a",
   "metadata": {},
   "outputs": [
    {
     "name": "stdout",
     "output_type": "stream",
     "text": [
      "    1     \n",
      "   123    \n",
      "  12345   \n",
      " 1234567  \n",
      "123456789 \n",
      " 1234567  \n",
      "  12345   \n",
      "   123    \n",
      "    1     \n"
     ]
    }
   ],
   "source": [
    "for i in range(1,6):\n",
    "    s=''\n",
    "    for j in range(1,2*i):\n",
    "        s=s+str(j)\n",
    "    print(s.center(10))\n",
    "for i in range(4,0,-1):\n",
    "    s=''\n",
    "    for j in range(1,2*i):\n",
    "        s=s+str(j)\n",
    "    print(s.center(10))"
   ]
  },
  {
   "cell_type": "code",
   "execution_count": 32,
   "id": "22eb36f6",
   "metadata": {},
   "outputs": [
    {
     "name": "stdout",
     "output_type": "stream",
     "text": [
      "    1     \n",
      "   232    \n",
      "  34543   \n",
      " 4567654  \n",
      "567898765 \n",
      " 4567654  \n",
      "  34543   \n",
      "   232    \n",
      "    1     \n"
     ]
    }
   ],
   "source": [
    "n=0\n",
    "for i in range(1,6):\n",
    "    st=''\n",
    "    for j in range(1,2*i):\n",
    "        if j<=i:\n",
    "            n=n+1\n",
    "        else:\n",
    "            n=n-1\n",
    "        st=st+str(n)\n",
    "    print(st.center(10))\n",
    "for i in range(4,0,-1):\n",
    "    st=''\n",
    "    n=i-1\n",
    "    for j in range(1,2*i):\n",
    "        if j<=i:\n",
    "            n=n+1\n",
    "        else:\n",
    "            n=n-1\n",
    "        st=st+str(n)\n",
    "    print(st.center(10))"
   ]
  },
  {
   "cell_type": "code",
   "execution_count": 33,
   "id": "f21043d6",
   "metadata": {},
   "outputs": [
    {
     "name": "stdout",
     "output_type": "stream",
     "text": [
      "    5     \n",
      "   545    \n",
      "  54345   \n",
      " 5432345  \n",
      "543212345 \n",
      " 5432345  \n",
      "  54345   \n",
      "   545    \n",
      "    5     \n"
     ]
    }
   ],
   "source": [
    "for i in range(1,6):\n",
    "    st=''\n",
    "    n=6\n",
    "    for j in range(1,2*i):\n",
    "        if j<=i:\n",
    "            n=n-1\n",
    "        else:\n",
    "            n=n+1\n",
    "        st=st+str(n)\n",
    "    print(st.center(10))\n",
    "for i in range(4,0,-1):\n",
    "    st=''\n",
    "    n=6\n",
    "    for j in range(1,2*i):\n",
    "        if j<=i:\n",
    "            n=n-1\n",
    "        else:\n",
    "            n=n+1\n",
    "        st=st+str(n)\n",
    "    print(st.center(10))"
   ]
  },
  {
   "cell_type": "code",
   "execution_count": 34,
   "id": "b9b60b59",
   "metadata": {},
   "outputs": [
    {
     "name": "stdout",
     "output_type": "stream",
     "text": [
      "*******\n",
      "*******\n",
      "*******\n",
      "*******\n",
      "*******\n",
      "*******\n",
      "*******\n"
     ]
    }
   ],
   "source": [
    "for i in range(1,8):\n",
    "    for j in range(1,8):\n",
    "        print('*',end='')\n",
    "    print()"
   ]
  },
  {
   "cell_type": "code",
   "execution_count": 35,
   "id": "3164ad0b",
   "metadata": {},
   "outputs": [
    {
     "name": "stdout",
     "output_type": "stream",
     "text": [
      "*******\n",
      "*     *\n",
      "*     *\n",
      "*     *\n",
      "*     *\n",
      "*     *\n",
      "*******\n"
     ]
    }
   ],
   "source": [
    "for i in range(1,8):\n",
    "    for j in range(1,8):\n",
    "        if i in (1,7):\n",
    "            print('*',end='')\n",
    "        elif j in (1,7):\n",
    "            print('*',end='')\n",
    "        else:\n",
    "            print(' ',end='')\n",
    "    print()"
   ]
  },
  {
   "cell_type": "code",
   "execution_count": 36,
   "id": "be59f9ef",
   "metadata": {},
   "outputs": [
    {
     "name": "stdout",
     "output_type": "stream",
     "text": [
      "\\*****/\n",
      "*\\***/*\n",
      "**\\*/**\n",
      "***\\***\n",
      "**/*\\**\n",
      "*/***\\*\n",
      "/*****\\\n"
     ]
    }
   ],
   "source": [
    "for i in range(1,8):\n",
    "    for j in range(1,8):\n",
    "        if i==j:\n",
    "            print('\\\\',end='')\n",
    "        elif i+j==8:\n",
    "            print('/',end='')\n",
    "        else:\n",
    "            print('*',end='')\n",
    "    print()"
   ]
  },
  {
   "cell_type": "code",
   "execution_count": 38,
   "id": "30e838e0",
   "metadata": {},
   "outputs": [
    {
     "name": "stdout",
     "output_type": "stream",
     "text": [
      "Enter no of rows: 11\n",
      "Enter no of columns: 33\n",
      "---------------.|.---------------\n",
      "------------.|..|..|.------------\n",
      "---------.|..|..|..|..|.---------\n",
      "------.|..|..|..|..|..|..|.------\n",
      "---.|..|..|..|..|..|..|..|..|.---\n",
      "-------------WELCOME-------------\n",
      "---.|..|..|..|..|..|..|..|..|.---\n",
      "------.|..|..|..|..|..|..|.------\n",
      "---------.|..|..|..|..|.---------\n",
      "------------.|..|..|.------------\n",
      "---------------.|.---------------\n"
     ]
    }
   ],
   "source": [
    "r=int(input('Enter no of rows: '))\n",
    "c=int(input('Enter no of columns: '))\n",
    "for i in range(1,r//2+1):\n",
    "    s=''\n",
    "    for j in range(1,2*i):\n",
    "        s=s+'.|.'\n",
    "    print(s.center(c,'-'))\n",
    "print('WELCOME'.center(c,'-'))\n",
    "for i in range(r//2,0,-1):\n",
    "    s=''\n",
    "    for j in range(1,2*i):\n",
    "        s=s+'.|.'\n",
    "    print(s.center(c,'-'))"
   ]
  },
  {
   "cell_type": "code",
   "execution_count": 39,
   "id": "cca4f59a",
   "metadata": {},
   "outputs": [
    {
     "name": "stdout",
     "output_type": "stream",
     "text": [
      "Enter size: 10\n",
      "------------------j------------------\n",
      "----------------j-i-j----------------\n",
      "--------------j-i-h-i-j--------------\n",
      "------------j-i-h-g-h-i-j------------\n",
      "----------j-i-h-g-f-g-h-i-j----------\n",
      "--------j-i-h-g-f-e-f-g-h-i-j--------\n",
      "------j-i-h-g-f-e-d-e-f-g-h-i-j------\n",
      "----j-i-h-g-f-e-d-c-d-e-f-g-h-i-j----\n",
      "--j-i-h-g-f-e-d-c-b-c-d-e-f-g-h-i-j--\n",
      "j-i-h-g-f-e-d-c-b-a-b-c-d-e-f-g-h-i-j\n",
      "--j-i-h-g-f-e-d-c-b-c-d-e-f-g-h-i-j--\n",
      "----j-i-h-g-f-e-d-c-d-e-f-g-h-i-j----\n",
      "------j-i-h-g-f-e-d-e-f-g-h-i-j------\n",
      "--------j-i-h-g-f-e-f-g-h-i-j--------\n",
      "----------j-i-h-g-f-g-h-i-j----------\n",
      "------------j-i-h-g-h-i-j------------\n",
      "--------------j-i-h-i-j--------------\n",
      "----------------j-i-j----------------\n",
      "------------------j------------------\n"
     ]
    }
   ],
   "source": [
    "s=int(input('Enter size: '))\n",
    "for i in range(1,s+1):\n",
    "    l=[]\n",
    "    n=97+s\n",
    "    for j in range(1,2*i):\n",
    "        if j<=i:\n",
    "            n=n-1\n",
    "        else:\n",
    "            n=n+1\n",
    "        l.append(chr(n))\n",
    "    st='-'.join(l)\n",
    "    print(st.center(37,'-'))\n",
    "for i in range(s-1,0,-1):\n",
    "    l=[]\n",
    "    n=97+s\n",
    "    for j in range(1,2*i):\n",
    "        if j<=i:\n",
    "            n=n-1\n",
    "        else:\n",
    "            n=n+1\n",
    "        l.append(chr(n))\n",
    "    st='-'.join(l)\n",
    "    print(st.center(37,'-'))"
   ]
  },
  {
   "cell_type": "code",
   "execution_count": null,
   "id": "0c0980fe",
   "metadata": {},
   "outputs": [],
   "source": []
  }
 ],
 "metadata": {
  "kernelspec": {
   "display_name": "Python 3 (ipykernel)",
   "language": "python",
   "name": "python3"
  },
  "language_info": {
   "codemirror_mode": {
    "name": "ipython",
    "version": 3
   },
   "file_extension": ".py",
   "mimetype": "text/x-python",
   "name": "python",
   "nbconvert_exporter": "python",
   "pygments_lexer": "ipython3",
   "version": "3.9.13"
  }
 },
 "nbformat": 4,
 "nbformat_minor": 5
}
